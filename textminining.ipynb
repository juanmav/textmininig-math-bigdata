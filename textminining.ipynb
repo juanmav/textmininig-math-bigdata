{
 "cells": [
  {
   "cell_type": "markdown",
   "metadata": {},
   "source": [
    "# Text mining assingment\n",
    "\n",
    "## Load files to dataframe"
   ]
  },
  {
   "cell_type": "code",
   "execution_count": 42,
   "metadata": {},
   "outputs": [
    {
     "data": {
      "text/html": [
       "<div>\n",
       "<style scoped>\n",
       "    .dataframe tbody tr th:only-of-type {\n",
       "        vertical-align: middle;\n",
       "    }\n",
       "\n",
       "    .dataframe tbody tr th {\n",
       "        vertical-align: top;\n",
       "    }\n",
       "\n",
       "    .dataframe thead th {\n",
       "        text-align: right;\n",
       "    }\n",
       "</style>\n",
       "<table border=\"1\" class=\"dataframe\">\n",
       "  <thead>\n",
       "    <tr style=\"text-align: right;\">\n",
       "      <th></th>\n",
       "      <th>text</th>\n",
       "      <th>label</th>\n",
       "    </tr>\n",
       "  </thead>\n",
       "  <tbody>\n",
       "    <tr>\n",
       "      <th>0</th>\n",
       "      <td>this is your definitive \" hollywood \" movie , ...</td>\n",
       "      <td>negative</td>\n",
       "    </tr>\n",
       "    <tr>\n",
       "      <th>1</th>\n",
       "      <td>in 1989 , tim burton took the legendary comic ...</td>\n",
       "      <td>negative</td>\n",
       "    </tr>\n",
       "    <tr>\n",
       "      <th>998</th>\n",
       "      <td>every once in a while , when an exceptional fa...</td>\n",
       "      <td>positive</td>\n",
       "    </tr>\n",
       "    <tr>\n",
       "      <th>999</th>\n",
       "      <td>it's no secret in the motion picture industry ...</td>\n",
       "      <td>positive</td>\n",
       "    </tr>\n",
       "  </tbody>\n",
       "</table>\n",
       "</div>"
      ],
      "text/plain": [
       "                                                  text     label\n",
       "0    this is your definitive \" hollywood \" movie , ...  negative\n",
       "1    in 1989 , tim burton took the legendary comic ...  negative\n",
       "998  every once in a while , when an exceptional fa...  positive\n",
       "999  it's no secret in the motion picture industry ...  positive"
      ]
     },
     "execution_count": 42,
     "metadata": {},
     "output_type": "execute_result"
    }
   ],
   "source": [
    "from collections import defaultdict\n",
    "from pathlib import Path\n",
    "import pandas as pd\n",
    "\n",
    "base_path = \"./resources/review_polarity/txt_sentoken/\"\n",
    "\n",
    "def load_files(path, label):\n",
    "    results = defaultdict(list)\n",
    "    for file in Path(path).iterdir():\n",
    "        with open(file, \"r\") as file_open:\n",
    "            text = file_open.read()\n",
    "            results[\"text\"].append(text)\n",
    "            results[\"label\"] = label\n",
    "    df = pd.DataFrame(results)\n",
    "    return df\n",
    "\n",
    "\n",
    "df_neg = load_files(base_path + 'neg/', 'negative')\n",
    "df_pos = load_files(base_path + 'pos/', 'positive')\n",
    "\n",
    "df_all = pd.concat([df_neg, df_pos])\n",
    "\n",
    "pd.concat([df_all.head(2), df_all.tail(2)])"
   ]
  },
  {
   "cell_type": "markdown",
   "metadata": {
    "pycharm": {
     "name": "#%% md\n"
    }
   },
   "source": [
    "## Pre-process data\n",
    "\n",
    "- Remove puntuation\n",
    "- Remove Stop Words\n",
    "- Stemming words"
   ]
  },
  {
   "cell_type": "code",
   "execution_count": 43,
   "metadata": {
    "collapsed": false,
    "jupyter": {
     "outputs_hidden": false
    },
    "pycharm": {
     "name": "#%%\n"
    }
   },
   "outputs": [
    {
     "data": {
      "text/html": [
       "<div>\n",
       "<style scoped>\n",
       "    .dataframe tbody tr th:only-of-type {\n",
       "        vertical-align: middle;\n",
       "    }\n",
       "\n",
       "    .dataframe tbody tr th {\n",
       "        vertical-align: top;\n",
       "    }\n",
       "\n",
       "    .dataframe thead th {\n",
       "        text-align: right;\n",
       "    }\n",
       "</style>\n",
       "<table border=\"1\" class=\"dataframe\">\n",
       "  <thead>\n",
       "    <tr style=\"text-align: right;\">\n",
       "      <th></th>\n",
       "      <th>text</th>\n",
       "      <th>label</th>\n",
       "      <th>processed</th>\n",
       "    </tr>\n",
       "  </thead>\n",
       "  <tbody>\n",
       "    <tr>\n",
       "      <th>0</th>\n",
       "      <td>this is your definitive \" hollywood \" movie , ...</td>\n",
       "      <td>negative</td>\n",
       "      <td>definit hollywood movi extrem predict follow b...</td>\n",
       "    </tr>\n",
       "    <tr>\n",
       "      <th>1</th>\n",
       "      <td>in 1989 , tim burton took the legendary comic ...</td>\n",
       "      <td>negative</td>\n",
       "      <td>tim burton took legendari comic book figur bat...</td>\n",
       "    </tr>\n",
       "    <tr>\n",
       "      <th>998</th>\n",
       "      <td>every once in a while , when an exceptional fa...</td>\n",
       "      <td>positive</td>\n",
       "      <td>everi except famili film come along attempt ch...</td>\n",
       "    </tr>\n",
       "    <tr>\n",
       "      <th>999</th>\n",
       "      <td>it's no secret in the motion picture industry ...</td>\n",
       "      <td>positive</td>\n",
       "      <td>secret motion pictur industri relationship scr...</td>\n",
       "    </tr>\n",
       "  </tbody>\n",
       "</table>\n",
       "</div>"
      ],
      "text/plain": [
       "                                                  text     label  \\\n",
       "0    this is your definitive \" hollywood \" movie , ...  negative   \n",
       "1    in 1989 , tim burton took the legendary comic ...  negative   \n",
       "998  every once in a while , when an exceptional fa...  positive   \n",
       "999  it's no secret in the motion picture industry ...  positive   \n",
       "\n",
       "                                             processed  \n",
       "0    definit hollywood movi extrem predict follow b...  \n",
       "1    tim burton took legendari comic book figur bat...  \n",
       "998  everi except famili film come along attempt ch...  \n",
       "999  secret motion pictur industri relationship scr...  "
      ]
     },
     "execution_count": 43,
     "metadata": {},
     "output_type": "execute_result"
    }
   ],
   "source": [
    "from nltk.tokenize import word_tokenize\n",
    "from nltk.corpus import stopwords\n",
    "from nltk.stem import PorterStemmer\n",
    "lemmatizer = PorterStemmer()\n",
    "stop_words = stopwords.words('english')\n",
    "\n",
    "def process_text(text):\n",
    "    tokens = word_tokenize(text)\n",
    "    words = [word for word in tokens if word.isalpha()]\n",
    "    words = [w for w in words if not w in stop_words]\n",
    "    words = [lemmatizer.stem(w) for w in words]\n",
    "    return \" \".join(words)\n",
    "\n",
    "\n",
    "sample = 1000\n",
    "df_all = pd.concat([df_all.head(sample), df_all.tail(sample)])\n",
    "df_all['processed'] = df_all.apply(lambda x: process_text(x['text']), axis=1)\n",
    "\n",
    "pd.concat([df_all.head(2), df_all.tail(2)])"
   ]
  },
  {
   "cell_type": "markdown",
   "metadata": {
    "pycharm": {
     "name": "#%% md\n"
    }
   },
   "source": [
    "## Frequency Analysis"
   ]
  },
  {
   "cell_type": "code",
   "execution_count": 52,
   "metadata": {
    "collapsed": false,
    "jupyter": {
     "outputs_hidden": false
    },
    "pycharm": {
     "name": "#%%\n"
    }
   },
   "outputs": [
    {
     "data": {
      "text/html": [
       "<div>\n",
       "<style scoped>\n",
       "    .dataframe tbody tr th:only-of-type {\n",
       "        vertical-align: middle;\n",
       "    }\n",
       "\n",
       "    .dataframe tbody tr th {\n",
       "        vertical-align: top;\n",
       "    }\n",
       "\n",
       "    .dataframe thead th {\n",
       "        text-align: right;\n",
       "    }\n",
       "</style>\n",
       "<table border=\"1\" class=\"dataframe\">\n",
       "  <thead>\n",
       "    <tr style=\"text-align: right;\">\n",
       "      <th></th>\n",
       "      <th>text</th>\n",
       "      <th>label</th>\n",
       "      <th>processed</th>\n",
       "      <th>frequencies</th>\n",
       "      <th>vectorized</th>\n",
       "    </tr>\n",
       "  </thead>\n",
       "  <tbody>\n",
       "    <tr>\n",
       "      <th>0</th>\n",
       "      <td>this is your definitive \" hollywood \" movie , ...</td>\n",
       "      <td>negative</td>\n",
       "      <td>definit hollywood movi extrem predict follow b...</td>\n",
       "      <td>[(film, 6), (basic, 4), (work, 4), (could, 4),...</td>\n",
       "      <td>[0.0, 0.0, 0.0, 0.0, 0.0, 0.0, 0.0, 0.0, 0.0, ...</td>\n",
       "    </tr>\n",
       "    <tr>\n",
       "      <th>1</th>\n",
       "      <td>in 1989 , tim burton took the legendary comic ...</td>\n",
       "      <td>negative</td>\n",
       "      <td>tim burton took legendari comic book figur bat...</td>\n",
       "      <td>[(batman, 9), (film, 7), (burton, 4), (enterta...</td>\n",
       "      <td>[0.0, 0.0, 0.0, 0.0, 0.0, 0.0, 0.0, 0.0, 0.0, ...</td>\n",
       "    </tr>\n",
       "    <tr>\n",
       "      <th>998</th>\n",
       "      <td>every once in a while , when an exceptional fa...</td>\n",
       "      <td>positive</td>\n",
       "      <td>everi except famili film come along attempt ch...</td>\n",
       "      <td>[(matilda, 20), (film, 8), (children, 7), (mis...</td>\n",
       "      <td>[0.0, 0.0, 0.0, 0.0, 0.0, 0.0, 0.0, 0.0, 0.0, ...</td>\n",
       "    </tr>\n",
       "    <tr>\n",
       "      <th>999</th>\n",
       "      <td>it's no secret in the motion picture industry ...</td>\n",
       "      <td>positive</td>\n",
       "      <td>secret motion pictur industri relationship scr...</td>\n",
       "      <td>[(movi, 6), (chan, 6), (tucker, 4), (almost, 4...</td>\n",
       "      <td>[0.0, 0.0, 0.0, 0.0, 0.0, 0.0, 0.0, 0.0, 0.0, ...</td>\n",
       "    </tr>\n",
       "  </tbody>\n",
       "</table>\n",
       "</div>"
      ],
      "text/plain": [
       "                                                  text     label  \\\n",
       "0    this is your definitive \" hollywood \" movie , ...  negative   \n",
       "1    in 1989 , tim burton took the legendary comic ...  negative   \n",
       "998  every once in a while , when an exceptional fa...  positive   \n",
       "999  it's no secret in the motion picture industry ...  positive   \n",
       "\n",
       "                                             processed  \\\n",
       "0    definit hollywood movi extrem predict follow b...   \n",
       "1    tim burton took legendari comic book figur bat...   \n",
       "998  everi except famili film come along attempt ch...   \n",
       "999  secret motion pictur industri relationship scr...   \n",
       "\n",
       "                                           frequencies  \\\n",
       "0    [(film, 6), (basic, 4), (work, 4), (could, 4),...   \n",
       "1    [(batman, 9), (film, 7), (burton, 4), (enterta...   \n",
       "998  [(matilda, 20), (film, 8), (children, 7), (mis...   \n",
       "999  [(movi, 6), (chan, 6), (tucker, 4), (almost, 4...   \n",
       "\n",
       "                                            vectorized  \n",
       "0    [0.0, 0.0, 0.0, 0.0, 0.0, 0.0, 0.0, 0.0, 0.0, ...  \n",
       "1    [0.0, 0.0, 0.0, 0.0, 0.0, 0.0, 0.0, 0.0, 0.0, ...  \n",
       "998  [0.0, 0.0, 0.0, 0.0, 0.0, 0.0, 0.0, 0.0, 0.0, ...  \n",
       "999  [0.0, 0.0, 0.0, 0.0, 0.0, 0.0, 0.0, 0.0, 0.0, ...  "
      ]
     },
     "execution_count": 52,
     "metadata": {},
     "output_type": "execute_result"
    }
   ],
   "source": [
    "from nltk.probability import FreqDist\n",
    "df_all['frequencies'] = df_all.apply(lambda x: FreqDist(x['processed'].split()).most_common(5), axis=1)\n",
    "\n",
    "pd.concat([df_all.head(2), df_all.tail(2)])"
   ]
  },
  {
   "cell_type": "markdown",
   "metadata": {
    "pycharm": {
     "name": "#%% md\n"
    }
   },
   "source": [
    "## Document Vectorization"
   ]
  },
  {
   "cell_type": "code",
   "execution_count": 53,
   "metadata": {
    "collapsed": false,
    "jupyter": {
     "outputs_hidden": false
    },
    "pycharm": {
     "name": "#%%\n"
    }
   },
   "outputs": [
    {
     "data": {
      "text/html": [
       "<div>\n",
       "<style scoped>\n",
       "    .dataframe tbody tr th:only-of-type {\n",
       "        vertical-align: middle;\n",
       "    }\n",
       "\n",
       "    .dataframe tbody tr th {\n",
       "        vertical-align: top;\n",
       "    }\n",
       "\n",
       "    .dataframe thead th {\n",
       "        text-align: right;\n",
       "    }\n",
       "</style>\n",
       "<table border=\"1\" class=\"dataframe\">\n",
       "  <thead>\n",
       "    <tr style=\"text-align: right;\">\n",
       "      <th></th>\n",
       "      <th>text</th>\n",
       "      <th>label</th>\n",
       "      <th>processed</th>\n",
       "      <th>frequencies</th>\n",
       "      <th>vectorized</th>\n",
       "    </tr>\n",
       "  </thead>\n",
       "  <tbody>\n",
       "    <tr>\n",
       "      <th>0</th>\n",
       "      <td>this is your definitive \" hollywood \" movie , ...</td>\n",
       "      <td>negative</td>\n",
       "      <td>definit hollywood movi extrem predict follow b...</td>\n",
       "      <td>[(film, 6), (basic, 4), (work, 4), (could, 4),...</td>\n",
       "      <td>[0.0, 0.0, 0.0, 0.0, 0.0, 0.0, 0.0, 0.0, 0.0, ...</td>\n",
       "    </tr>\n",
       "    <tr>\n",
       "      <th>1</th>\n",
       "      <td>in 1989 , tim burton took the legendary comic ...</td>\n",
       "      <td>negative</td>\n",
       "      <td>tim burton took legendari comic book figur bat...</td>\n",
       "      <td>[(batman, 9), (film, 7), (burton, 4), (enterta...</td>\n",
       "      <td>[0.0, 0.0, 0.0, 0.0, 0.0, 0.0, 0.0, 0.0, 0.0, ...</td>\n",
       "    </tr>\n",
       "    <tr>\n",
       "      <th>998</th>\n",
       "      <td>every once in a while , when an exceptional fa...</td>\n",
       "      <td>positive</td>\n",
       "      <td>everi except famili film come along attempt ch...</td>\n",
       "      <td>[(matilda, 20), (film, 8), (children, 7), (mis...</td>\n",
       "      <td>[0.0, 0.0, 0.0, 0.0, 0.0, 0.0, 0.0, 0.0, 0.0, ...</td>\n",
       "    </tr>\n",
       "    <tr>\n",
       "      <th>999</th>\n",
       "      <td>it's no secret in the motion picture industry ...</td>\n",
       "      <td>positive</td>\n",
       "      <td>secret motion pictur industri relationship scr...</td>\n",
       "      <td>[(movi, 6), (chan, 6), (tucker, 4), (almost, 4...</td>\n",
       "      <td>[0.0, 0.0, 0.0, 0.0, 0.0, 0.0, 0.0, 0.0, 0.0, ...</td>\n",
       "    </tr>\n",
       "  </tbody>\n",
       "</table>\n",
       "</div>"
      ],
      "text/plain": [
       "                                                  text     label  \\\n",
       "0    this is your definitive \" hollywood \" movie , ...  negative   \n",
       "1    in 1989 , tim burton took the legendary comic ...  negative   \n",
       "998  every once in a while , when an exceptional fa...  positive   \n",
       "999  it's no secret in the motion picture industry ...  positive   \n",
       "\n",
       "                                             processed  \\\n",
       "0    definit hollywood movi extrem predict follow b...   \n",
       "1    tim burton took legendari comic book figur bat...   \n",
       "998  everi except famili film come along attempt ch...   \n",
       "999  secret motion pictur industri relationship scr...   \n",
       "\n",
       "                                           frequencies  \\\n",
       "0    [(film, 6), (basic, 4), (work, 4), (could, 4),...   \n",
       "1    [(batman, 9), (film, 7), (burton, 4), (enterta...   \n",
       "998  [(matilda, 20), (film, 8), (children, 7), (mis...   \n",
       "999  [(movi, 6), (chan, 6), (tucker, 4), (almost, 4...   \n",
       "\n",
       "                                            vectorized  \n",
       "0    [0.0, 0.0, 0.0, 0.0, 0.0, 0.0, 0.0, 0.0, 0.0, ...  \n",
       "1    [0.0, 0.0, 0.0, 0.0, 0.0, 0.0, 0.0, 0.0, 0.0, ...  \n",
       "998  [0.0, 0.0, 0.0, 0.0, 0.0, 0.0, 0.0, 0.0, 0.0, ...  \n",
       "999  [0.0, 0.0, 0.0, 0.0, 0.0, 0.0, 0.0, 0.0, 0.0, ...  "
      ]
     },
     "execution_count": 53,
     "metadata": {},
     "output_type": "execute_result"
    }
   ],
   "source": [
    "from sklearn.feature_extraction.text import CountVectorizer\n",
    "cv = CountVectorizer()\n",
    "from sklearn.feature_extraction.text import TfidfVectorizer\n",
    "tf = TfidfVectorizer()\n",
    "text_tf = tf.fit_transform(df_all['processed'])\n",
    "\n",
    "df_all['vectorized'] = list(text_tf.toarray())\n",
    "\n",
    "pd.concat([df_all.head(2), df_all.tail(2)])"
   ]
  },
  {
   "cell_type": "markdown",
   "metadata": {
    "pycharm": {
     "name": "#%% md\n"
    }
   },
   "source": [
    "## Split data in training data and "
   ]
  },
  {
   "cell_type": "code",
   "execution_count": 54,
   "metadata": {
    "collapsed": false,
    "jupyter": {
     "outputs_hidden": false
    },
    "pycharm": {
     "name": "#%%\n"
    }
   },
   "outputs": [],
   "source": [
    "from sklearn.model_selection import train_test_split\n",
    "X_train, X_test, y_train, y_test = train_test_split(df_all['vectorized'].tolist(), df_all['label'], test_size=0.3, random_state=3)\n"
   ]
  },
  {
   "cell_type": "markdown",
   "metadata": {
    "pycharm": {
     "name": "#%% md\n"
    }
   },
   "source": [
    "## Model Generation Using Multinomial Naive Bayes, and make predictions."
   ]
  },
  {
   "cell_type": "code",
   "execution_count": 55,
   "metadata": {
    "collapsed": false,
    "jupyter": {
     "outputs_hidden": false
    },
    "pycharm": {
     "name": "#%%\n"
    }
   },
   "outputs": [],
   "source": [
    "from sklearn.naive_bayes import MultinomialNB\n",
    "classifier = MultinomialNB().fit(X_train, y_train)\n",
    "predicted = classifier.predict(X_test)"
   ]
  },
  {
   "cell_type": "markdown",
   "metadata": {
    "pycharm": {
     "name": "#%% md\n"
    }
   },
   "source": [
    "## Output Accuracy"
   ]
  },
  {
   "cell_type": "code",
   "execution_count": 56,
   "metadata": {
    "collapsed": false,
    "jupyter": {
     "outputs_hidden": false
    },
    "pycharm": {
     "name": "#%%\n"
    }
   },
   "outputs": [
    {
     "name": "stdout",
     "output_type": "stream",
     "text": [
      "MultinomialNB Accuracy: 0.7816666666666666\n"
     ]
    }
   ],
   "source": [
    "from sklearn import metrics\n",
    "print(\"MultinomialNB Accuracy:\", metrics.accuracy_score(y_test, predicted))"
   ]
  },
  {
   "cell_type": "markdown",
   "metadata": {
    "pycharm": {
     "name": "#%% md\n"
    }
   },
   "source": [
    "## Plot confunsion matrix"
   ]
  },
  {
   "cell_type": "code",
   "execution_count": 57,
   "metadata": {},
   "outputs": [
    {
     "data": {
      "text/plain": [
       "<sklearn.metrics._plot.confusion_matrix.ConfusionMatrixDisplay at 0x7f63bda232b0>"
      ]
     },
     "execution_count": 57,
     "metadata": {},
     "output_type": "execute_result"
    },
    {
     "data": {
      "image/png": "[encoded data removed]",
      "text/plain": [
       "<Figure size 432x288 with 2 Axes>"
      ]
     },
     "metadata": {
      "needs_background": "light"
     },
     "output_type": "display_data"
    }
   ],
   "source": [
    "from sklearn.metrics import plot_confusion_matrix\n",
    "plot_confusion_matrix(\n",
    "    classifier, \n",
    "    X_test, \n",
    "    y_test,\n",
    "    display_labels=['Positive', 'Negative'],\n",
    "    normalize='true'\n",
    ")"
   ]
  }
 ],
 "metadata": {
  "kernelspec": {
   "display_name": "Python 3",
   "language": "python",
   "name": "python3"
  },
  "language_info": {
   "codemirror_mode": {
    "name": "ipython",
    "version": 3
   },
   "file_extension": ".py",
   "mimetype": "text/x-python",
   "name": "python",
   "nbconvert_exporter": "python",
   "pygments_lexer": "ipython3",
   "version": "3.6.9"
  },
  "pycharm": {
   "stem_cell": {
    "cell_type": "raw",
    "metadata": {
     "collapsed": false
    },
    "source": []
   }
  }
 },
 "nbformat": 4,
 "nbformat_minor": 4
}
